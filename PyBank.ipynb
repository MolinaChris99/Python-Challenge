{
 "cells": [
  {
   "cell_type": "code",
   "execution_count": 3,
   "id": "cbe5100a-4557-4099-9895-72ef9d26542e",
   "metadata": {},
   "outputs": [
    {
     "name": "stdout",
     "output_type": "stream",
     "text": [
      "Financial Analysis\n",
      "----------------------------\n",
      "Total Months: 86\n",
      "Total: $22564198\n",
      "Average Change: $-8311.11\n",
      "Greatest Increase in Profits: Aug-16 ($1862002)\n",
      "Greatest Decrease in Profits: Feb-14 ($-1825558)\n"
     ]
    }
   ],
   "source": [
    "import csv\n",
    "\n",
    "months = []\n",
    "profit_losses = []\n",
    "\n",
    "try:\n",
    "    with open('budget_data.csv', 'r') as file:\n",
    "        csvreader = csv.reader(file)\n",
    "        header = next(csvreader, None)  \n",
    "        \n",
    "        if header is None:\n",
    "            print(\"The file is empty. Please check the file content.\")\n",
    "        else:\n",
    "            for row in csvreader:\n",
    "                months.append(row[0])\n",
    "                profit_losses.append(int(row[1]))\n",
    "\n",
    "    if not months:\n",
    "        print(\"No financial records found in the dataset.\")\n",
    "    else:\n",
    "        total_months = len(months)\n",
    "\n",
    "        net_total = sum(profit_losses)\n",
    "        \n",
    "        changes = [profit_losses[i+1] - profit_losses[i] for i in range(total_months - 1)]\n",
    "        average_change = sum(changes) / len(changes)\n",
    "\n",
    "        greatest_increase = max(changes)\n",
    "        greatest_decrease = min(changes)\n",
    "        greatest_increase_date = months[changes.index(greatest_increase) + 1]\n",
    "        greatest_decrease_date = months[changes.index(greatest_decrease) + 1]\n",
    "\n",
    "        print(\"Financial Analysis\")\n",
    "        print(\"----------------------------\")\n",
    "        print(f\"Total Months: {total_months}\")\n",
    "        print(f\"Total: ${net_total}\")\n",
    "        print(f\"Average Change: ${average_change:.2f}\")\n",
    "        print(f\"Greatest Increase in Profits: {greatest_increase_date} (${greatest_increase})\")\n",
    "        print(f\"Greatest Decrease in Profits: {greatest_decrease_date} (${greatest_decrease})\")\n",
    "\n",
    "except FileNotFoundError:\n",
    "    print(\"File 'budget_data.csv' not found. Please ensure the file exists in the correct directory.\")\n"
   ]
  },
  {
   "cell_type": "code",
   "execution_count": null,
   "id": "9eeaceeb-b2f6-4743-9064-99fbb66e4d6e",
   "metadata": {},
   "outputs": [],
   "source": []
  }
 ],
 "metadata": {
  "kernelspec": {
   "display_name": "Python 3 (ipykernel)",
   "language": "python",
   "name": "python3"
  },
  "language_info": {
   "codemirror_mode": {
    "name": "ipython",
    "version": 3
   },
   "file_extension": ".py",
   "mimetype": "text/x-python",
   "name": "python",
   "nbconvert_exporter": "python",
   "pygments_lexer": "ipython3",
   "version": "3.10.15"
  }
 },
 "nbformat": 4,
 "nbformat_minor": 5
}
