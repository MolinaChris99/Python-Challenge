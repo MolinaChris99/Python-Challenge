{
 "cells": [
  {
   "cell_type": "code",
   "execution_count": 1,
   "id": "a8c00050-786b-40f6-9785-4251ac925180",
   "metadata": {},
   "outputs": [
    {
     "name": "stdout",
     "output_type": "stream",
     "text": [
      "Election Results\n",
      "-------------------------\n",
      "Total Votes: 369711\n",
      "-------------------------\n",
      "Charles Casper Stockham: 23.049% (85213)\n",
      "Diana DeGette: 73.812% (272892)\n",
      "Raymon Anthony Doane: 3.139% (11606)\n",
      "-------------------------\n",
      "Winner: Diana DeGette\n",
      "-------------------------\n"
     ]
    }
   ],
   "source": [
    "import csv\n",
    "from collections import Counter\n",
    "\n",
    "\n",
    "total_votes = 0\n",
    "candidate_votes = Counter()\n",
    "\n",
    "\n",
    "with open('election_data.csv', 'r') as file:\n",
    "    csvreader = csv.reader(file)\n",
    "    next(csvreader) \n",
    "    \n",
    "    for row in csvreader:\n",
    "        total_votes += 1\n",
    "        candidate_votes[row[2]] += 1  \n",
    "\n",
    "\n",
    "candidates = list(candidate_votes.keys())\n",
    "vote_percentages = {candidate: (votes / total_votes) * 100 for candidate, votes in candidate_votes.items()}\n",
    "winner = max(candidate_votes, key=candidate_votes.get)\n",
    "\n",
    "\n",
    "print(\"Election Results\")\n",
    "print(\"-------------------------\")\n",
    "print(f\"Total Votes: {total_votes}\")\n",
    "print(\"-------------------------\")\n",
    "for candidate, votes in candidate_votes.items():\n",
    "    print(f\"{candidate}: {vote_percentages[candidate]:.3f}% ({votes})\")\n",
    "print(\"-------------------------\")\n",
    "print(f\"Winner: {winner}\")\n",
    "print(\"-------------------------\")\n"
   ]
  },
  {
   "cell_type": "code",
   "execution_count": null,
   "id": "29a35335-1d22-4ac5-af7c-796cbc58ca99",
   "metadata": {},
   "outputs": [],
   "source": []
  }
 ],
 "metadata": {
  "kernelspec": {
   "display_name": "Python 3 (ipykernel)",
   "language": "python",
   "name": "python3"
  },
  "language_info": {
   "codemirror_mode": {
    "name": "ipython",
    "version": 3
   },
   "file_extension": ".py",
   "mimetype": "text/x-python",
   "name": "python",
   "nbconvert_exporter": "python",
   "pygments_lexer": "ipython3",
   "version": "3.10.15"
  }
 },
 "nbformat": 4,
 "nbformat_minor": 5
}
